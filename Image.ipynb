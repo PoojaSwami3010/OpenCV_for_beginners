{
 "cells": [
  {
   "cell_type": "markdown",
   "metadata": {},
   "source": [
    "# Image Fundamentals"
   ]
  },
  {
   "cell_type": "code",
   "execution_count": null,
   "metadata": {},
   "outputs": [],
   "source": [
    "# importing required packages\n",
    "import numpy as np\n",
    "import cv2\n",
    "\n",
    "img=cv2.imread(\"Chrysanthemum.jpg\")  #reading image\n",
    "cv2.imshow('Original',img) # for image show with title original\n",
    "cv2.waitKey(0)  # open window for while until stop program\n",
    "cv2.destroyAllWindows() # destory all windows"
   ]
  },
  {
   "cell_type": "code",
   "execution_count": 1,
   "metadata": {},
   "outputs": [],
   "source": [
    "import numpy as np\n",
    "import cv2\n",
    "\n",
    "img=cv2.imread(\"Chrysanthemum.jpg\",0)  # 0 return image in gray colour\n",
    "cv2.imshow('Original',img)\n",
    "cv2.waitKey(0)\n",
    "cv2.destroyAllWindows()"
   ]
  },
  {
   "cell_type": "code",
   "execution_count": 2,
   "metadata": {},
   "outputs": [],
   "source": [
    "import numpy as np\n",
    "import cv2\n",
    "\n",
    "img=cv2.imread(\"Chrysanthemum.jpg\",-1)  # 0 return image in gray colour\n",
    "cv2.imshow('Original',img)\n",
    "cv2.waitKey(0)\n",
    "cv2.destroyAllWindows()"
   ]
  },
  {
   "cell_type": "markdown",
   "metadata": {},
   "source": [
    "##  Converting image to other format jpg to .png"
   ]
  },
  {
   "cell_type": "code",
   "execution_count": 3,
   "metadata": {},
   "outputs": [],
   "source": [
    "import numpy as np\n",
    "import cv2\n",
    "\n",
    "img=cv2.imread(\"Chrysanthemum.jpg\")  # reading image\n",
    "img1=cv2.imwrite('new.png',img)  # writing image\n",
    "cv2.imshow('Original',img1)\n",
    "cv2.waitKey(0)\n",
    "cv2.destroyAllWindows()"
   ]
  },
  {
   "cell_type": "markdown",
   "metadata": {},
   "source": [
    "## Drawing"
   ]
  },
  {
   "cell_type": "markdown",
   "metadata": {},
   "source": [
    "* Define the dimensions of the image\n",
    "* Create the image with numpy arrays\n",
    "* Create balck background by filling the array with zeros\n",
    "* Implement drawing function"
   ]
  },
  {
   "cell_type": "code",
   "execution_count": 9,
   "metadata": {},
   "outputs": [],
   "source": [
    "import numpy as np \n",
    "import cv2\n",
    "\n",
    "pik=np.zeros((500,500,3),dtype='uint8') # uint8 is 8 bit unsigned integer\n",
    "cv2.imshow('dark',pik)\n",
    "cv2.waitKey(0)\n",
    "cv2.destroyAllWindows()"
   ]
  },
  {
   "cell_type": "code",
   "execution_count": 4,
   "metadata": {},
   "outputs": [],
   "source": [
    "import numpy as np \n",
    "import cv2\n",
    "\n",
    "pik=np.zeros((500,500,3),dtype='uint8')\n",
    "cv2.rectangle(pik,(0,0),(500,150),(123,200,98),3,lineType=8)\n",
    "cv2.imshow('dark',pik)\n",
    "cv2.waitKey(0)\n",
    "cv2.destroyAllWindows()"
   ]
  },
  {
   "cell_type": "markdown",
   "metadata": {},
   "source": [
    "## Drawing line"
   ]
  },
  {
   "cell_type": "code",
   "execution_count": 8,
   "metadata": {},
   "outputs": [],
   "source": [
    "import numpy as np \n",
    "import cv2\n",
    "\n",
    "pik=np.zeros((500,500,3),dtype='uint8')\n",
    "cv2.line(pik,(150,350),(500,350),(0,255,255))\n",
    "cv2.imshow('dark',pik)\n",
    "cv2.waitKey(0)\n",
    "cv2.destroyAllWindows()"
   ]
  },
  {
   "cell_type": "markdown",
   "metadata": {},
   "source": [
    "## Circle"
   ]
  },
  {
   "cell_type": "code",
   "execution_count": 12,
   "metadata": {},
   "outputs": [],
   "source": [
    "import numpy as np \n",
    "import cv2\n",
    "\n",
    "pik=np.zeros((500,500,3),dtype='uint8')\n",
    "color=(255,0,250)\n",
    "cv2.circle(pik,(250,250),150,color)\n",
    "cv2.imshow('dark',pik)\n",
    "cv2.waitKey(0)\n",
    "cv2.destroyAllWindows()"
   ]
  },
  {
   "cell_type": "markdown",
   "metadata": {},
   "source": [
    "## Writing text"
   ]
  },
  {
   "cell_type": "code",
   "execution_count": 18,
   "metadata": {},
   "outputs": [],
   "source": [
    "import numpy as np \n",
    "import cv2\n",
    "\n",
    "pik=np.zeros((500,500,3),dtype='uint8')\n",
    "\n",
    "font =cv2.FONT_HERSHEY_TRIPLEX\n",
    "\n",
    "cv2.putText(pik,'Sachu',(100,100),font,3,(255,255,255),6,cv2.LINE_8)# writing lines\n",
    "            \n",
    "cv2.imshow('dark',pik)\n",
    "cv2.waitKey(0)\n",
    "cv2.destroyAllWindows()"
   ]
  },
  {
   "cell_type": "markdown",
   "metadata": {},
   "source": [
    "## All in one combination"
   ]
  },
  {
   "cell_type": "code",
   "execution_count": 25,
   "metadata": {},
   "outputs": [],
   "source": [
    "import numpy as np \n",
    "import cv2\n",
    "\n",
    "pik=np.zeros((500,500,3),dtype='uint8')\n",
    "cv2.rectangle(pik,(0,0),(500,150),(123,200,98),3,lineType=8)\n",
    "font =cv2.FONT_HERSHEY_TRIPLEX\n",
    "\n",
    "cv2.putText(pik,'Sachu',(100,100),font,3,(255,255,255),6,cv2.LINE_8)# writing lines\n",
    "cv2.circle(pik,(250,250),80,(255,0,255))\n",
    "cv2.line(pik,(150,130),(389,133),(0,255,255))\n",
    "cv2.imshow('dark',pik)\n",
    "cv2.waitKey(0)\n",
    "cv2.destroyAllWindows()"
   ]
  },
  {
   "cell_type": "markdown",
   "metadata": {},
   "source": [
    "# Image Processing"
   ]
  },
  {
   "cell_type": "markdown",
   "metadata": {},
   "source": [
    "## Image transformation"
   ]
  },
  {
   "cell_type": "code",
   "execution_count": 36,
   "metadata": {},
   "outputs": [],
   "source": [
    "# importing required packages\n",
    "import numpy as np\n",
    "import cv2\n",
    "\n",
    "img=cv2.imread(\"Chrysanthemum.jpg\")  \n",
    "cols=img.shape[1]\n",
    "row=img.shape[0]\n",
    "M=np.float32([[1,0,150],[0,1,70]])\n",
    "\n",
    "shifted=cv2.warpAffine(img,M,(cols,row))\n",
    "cv2.imshow('shifted',shifted)\n",
    "\n",
    "cv2.waitKey(0)  # open window for while until stop program\n",
    "cv2.destroyAllWindows() # destory all windows"
   ]
  },
  {
   "cell_type": "code",
   "execution_count": 35,
   "metadata": {},
   "outputs": [],
   "source": [
    "# importing required packages\n",
    "import numpy as np\n",
    "import cv2\n",
    "\n",
    "img=cv2.imread(\"Chrysanthemum.jpg\")  \n",
    "cols=img.shape[1]\n",
    "row=img.shape[0]\n",
    "M=np.float32([[1,0,-150],[0,1,-70]])\n",
    "\n",
    "shifted=cv2.warpAffine(img,M,(cols,row))\n",
    "cv2.imshow('shifted',shifted)\n",
    "\n",
    "cv2.waitKey(0)  # open window for while until stop program\n",
    "cv2.destroyAllWindows() # destory all windows"
   ]
  },
  {
   "cell_type": "markdown",
   "metadata": {},
   "source": [
    "## Image rotation"
   ]
  },
  {
   "cell_type": "code",
   "execution_count": 33,
   "metadata": {},
   "outputs": [],
   "source": [
    "import numpy as np\n",
    "import cv2\n",
    "\n",
    "img=cv2.imread(\"Chrysanthemum.jpg\")  \n",
    "row=img.shape[1]\n",
    "col=img.shape[0]\n",
    "center=(col/2,row/2)\n",
    "angle=90\n",
    "M=cv2.getRotationMatrix2D(center,angle,1)\n",
    "\n",
    "rotate=cv2.warpAffine(img,M,(cols,row))\n",
    "cv2.imshow('rotate',rotate)\n",
    "\n",
    "cv2.waitKey(0)  \n",
    "cv2.destroyAllWindows()"
   ]
  },
  {
   "cell_type": "code",
   "execution_count": null,
   "metadata": {},
   "outputs": [],
   "source": [
    "import numpy as np\n",
    "import cv2\n",
    "\n",
    "img=cv2.imread(\"Chrysanthemum.jpg\")  \n",
    "row=img.shape[1]\n",
    "col=img.shape[0]\n",
    "center=(col/2,row/2)\n",
    "angle=-90\n",
    "M=cv2.getRotationMatrix2D(center,angle,1)\n",
    "\n",
    "rotate=cv2.warpAffine(img,M,(cols,row))\n",
    "cv2.imshow('rotate',rotate)\n",
    "\n",
    "cv2.waitKey(0)  \n",
    "cv2.destroyAllWindows()"
   ]
  },
  {
   "cell_type": "markdown",
   "metadata": {},
   "source": [
    "## Image Thresholding\n",
    "\n",
    "* Image thresholding is binarization of image setting it 0 and 1\n",
    "* 0-black\n",
    "* 1-white\n",
    "* load picture in gray\n",
    "* set threshold value"
   ]
  },
  {
   "cell_type": "code",
   "execution_count": 40,
   "metadata": {},
   "outputs": [],
   "source": [
    "import numpy as np\n",
    "import cv2\n",
    "\n",
    "img=cv2.imread(\"Chrysanthemum.jpg\",0)\n",
    "threshod_value=60  #put any value as per image\n",
    "(t_value,binary_threshold)=cv2.threshold(img,threshod_value,255,cv2.THRESH_BINARY)\n",
    "\n",
    "cv2.imshow('binary',binary_threshold)\n",
    "\n",
    "cv2.waitKey(0)  \n",
    "cv2.destroyAllWindows()"
   ]
  },
  {
   "cell_type": "markdown",
   "metadata": {},
   "source": [
    "# Image Filtering"
   ]
  },
  {
   "cell_type": "markdown",
   "metadata": {},
   "source": [
    "## Gaussian bluring"
   ]
  },
  {
   "cell_type": "code",
   "execution_count": 42,
   "metadata": {},
   "outputs": [],
   "source": [
    "import numpy as np\n",
    "import cv2\n",
    "\n",
    "img=cv2.imread(\"Chrysanthemum.jpg\")\n",
    "matrix=(7,7)\n",
    "blur=cv2.GaussianBlur(img,matrix,0)\n",
    "\n",
    "cv2.imshow('blurred',blur)\n",
    "\n",
    "cv2.waitKey(0)  \n",
    "cv2.destroyAllWindows()"
   ]
  },
  {
   "cell_type": "markdown",
   "metadata": {},
   "source": [
    "## Median blur"
   ]
  },
  {
   "cell_type": "code",
   "execution_count": 1,
   "metadata": {},
   "outputs": [],
   "source": [
    "import numpy as np\n",
    "import cv2\n",
    "\n",
    "img=cv2.imread(\"Chrysanthemum.jpg\")\n",
    "kernal=3\n",
    "median=cv2.medianBlur(img,kernal)\n",
    "\n",
    "cv2.imshow('median',median)\n",
    "\n",
    "cv2.waitKey(0)  \n",
    "cv2.destroyAllWindows()"
   ]
  },
  {
   "cell_type": "markdown",
   "metadata": {},
   "source": [
    "## Bilateral filtering"
   ]
  },
  {
   "cell_type": "code",
   "execution_count": 2,
   "metadata": {},
   "outputs": [],
   "source": [
    "import numpy as np\n",
    "import cv2\n",
    "\n",
    "img=cv2.imread(\"Chrysanthemum.jpg\")\n",
    "dimpixel=7\n",
    "color=100\n",
    "space=101\n",
    "filter=cv2.bilateralFilter(img,dimpixel,color,space)\n",
    "\n",
    "cv2.imshow('filter',filter)\n",
    "\n",
    "cv2.waitKey(0)  \n",
    "cv2.destroyAllWindows()"
   ]
  },
  {
   "cell_type": "markdown",
   "metadata": {},
   "source": [
    "# Feature Detection\n",
    "\n",
    "## Canny edge detector"
   ]
  },
  {
   "cell_type": "code",
   "execution_count": 3,
   "metadata": {},
   "outputs": [],
   "source": [
    "import numpy as np\n",
    "import cv2\n",
    "\n",
    "img=cv2.imread(\"Chrysanthemum.jpg\")\n",
    "th1=50\n",
    "th2=100\n",
    "canny=cv2.Canny(img,th1,th2)\n",
    "\n",
    "cv2.imshow('Canny_edge',canny)\n",
    "\n",
    "cv2.waitKey(0)  \n",
    "cv2.destroyAllWindows()"
   ]
  },
  {
   "cell_type": "code",
   "execution_count": 4,
   "metadata": {},
   "outputs": [],
   "source": [
    "import numpy as np\n",
    "import cv2\n",
    "\n",
    "img=cv2.imread(\"Chrysanthemum.jpg\")\n",
    "th1=150\n",
    "th2=200\n",
    "canny=cv2.Canny(img,th1,th2)\n",
    "\n",
    "cv2.imshow('Canny_edge',canny)\n",
    "\n",
    "cv2.waitKey(0)  \n",
    "cv2.destroyAllWindows()"
   ]
  },
  {
   "cell_type": "markdown",
   "metadata": {},
   "source": [
    "# Video Analysis\n",
    "\n",
    "## Load a video"
   ]
  },
  {
   "cell_type": "code",
   "execution_count": null,
   "metadata": {},
   "outputs": [],
   "source": [
    "import numpy as np\n",
    "import cv2\n",
    "\n",
    "\n",
    "cap = cv2.VideoCapture(0)\n",
    "while (cap.isOpened()):\n",
    "    ret,frame=cap.read()\n",
    "    cv2.imshow('vid',frame)\n",
    "    if cv2.waitKey(1) & 0xFF==ord('q'):\n",
    "        break \n",
    "cap.release()        \n",
    "cv2.destroyAllWindows()"
   ]
  },
  {
   "cell_type": "markdown",
   "metadata": {},
   "source": [
    "## Save video in different format"
   ]
  },
  {
   "cell_type": "code",
   "execution_count": null,
   "metadata": {},
   "outputs": [],
   "source": [
    "import numpy as np\n",
    "import cv2\n",
    "\n",
    "cap = cv2.VideoCapture('\\\\ to video.mp4')\n",
    "fourcc=cv2.VideoWriter_fourcc(*'XVID')\n",
    "fps=30\n",
    "framesize=(720,480)\n",
    "out=cv.VideoWriter('sample.mp4',fourcc,fps,framesize)\n",
    "while (cap.isOpened()):\n",
    "    ret,frame=cap.read()\n",
    "    cv2.imshow('vid',frame)\n",
    "    if cv2.waitKey(1) & 0xFF==ord('q'):\n",
    "        break \n",
    "out.release()\n",
    "cap.release()        \n",
    "cv2.destroyAllWindows()"
   ]
  },
  {
   "cell_type": "markdown",
   "metadata": {},
   "source": [
    "# Applications"
   ]
  },
  {
   "cell_type": "markdown",
   "metadata": {},
   "source": [
    "## Image face detection"
   ]
  },
  {
   "cell_type": "markdown",
   "metadata": {},
   "source": [
    "## Real time face detection using webcam"
   ]
  },
  {
   "cell_type": "code",
   "execution_count": null,
   "metadata": {},
   "outputs": [
    {
     "name": "stdout",
     "output_type": "stream",
     "text": [
      "number of faces 0\n",
      "number of faces 0\n",
      "number of faces 0\n",
      "number of faces 0\n",
      "number of faces 0\n",
      "number of faces 0\n",
      "number of faces 0\n",
      "number of faces 0\n",
      "number of faces 0\n",
      "number of faces 0\n",
      "number of faces 0\n",
      "number of faces 0\n",
      "number of faces 0\n"
     ]
    }
   ],
   "source": [
    "import numpy as np\n",
    "import cv2\n",
    "\n",
    "face_cascade=cv2.CascadeClassifier(cv2.data.haarcascades + \"haarcascade_frontalface_default.xml\")\n",
    "cap = cv2.VideoCapture(0)\n",
    "scale_factor=1.3\n",
    "while 1:\n",
    "    ret,pic=cap.read()\n",
    "    faces=face_cascade.detectMultiScale(pic,scale_factor,5)\n",
    "    for (x,y,w,h)in faces:\n",
    "        cv2.rectangle(pic,(x,y),(x+w,y+h),(255,0,0),2)\n",
    "        font=cv2.FONT_HERSHEY_SIMPLEX\n",
    "        cv2.putText(pic,'Pooja',(x,y),font,2,(255,255,255),2,cv2.LINE_AA)\n",
    "    print('number of faces {}'.format(len(faces)))\n",
    "    cv2.imshow('face',pic)\n",
    "    k=cv2.waitKey(30) & 0xFF\n",
    "    if k==2:\n",
    "        break \n",
    "#cap.release()        \n",
    "cv2.destroyAllWindows()"
   ]
  },
  {
   "cell_type": "markdown",
   "metadata": {},
   "source": [
    "## Image face dtection"
   ]
  },
  {
   "cell_type": "code",
   "execution_count": 2,
   "metadata": {},
   "outputs": [
    {
     "name": "stdout",
     "output_type": "stream",
     "text": [
      "number of faces 0\n",
      "number of faces 0\n",
      "number of faces 0\n",
      "number of faces 0\n",
      "number of faces 0\n",
      "number of faces 0\n",
      "number of faces 0\n",
      "number of faces 0\n",
      "number of faces 0\n",
      "number of faces 0\n",
      "number of faces 0\n",
      "number of faces 0\n",
      "number of faces 0\n",
      "number of faces 0\n",
      "number of faces 0\n",
      "number of faces 0\n",
      "number of faces 0\n",
      "number of faces 0\n",
      "number of faces 0\n",
      "number of faces 0\n",
      "number of faces 0\n",
      "number of faces 0\n",
      "number of faces 0\n",
      "number of faces 0\n",
      "number of faces 0\n",
      "number of faces 0\n",
      "number of faces 0\n",
      "number of faces 0\n",
      "number of faces 0\n",
      "number of faces 0\n",
      "number of faces 0\n",
      "number of faces 0\n",
      "number of faces 0\n",
      "number of faces 0\n",
      "number of faces 0\n",
      "number of faces 0\n",
      "number of faces 0\n",
      "number of faces 0\n",
      "number of faces 0\n",
      "number of faces 0\n",
      "number of faces 0\n",
      "number of faces 0\n",
      "number of faces 0\n",
      "number of faces 0\n",
      "number of faces 0\n",
      "number of faces 0\n",
      "number of faces 0\n",
      "number of faces 0\n",
      "number of faces 0\n",
      "number of faces 0\n",
      "number of faces 0\n",
      "number of faces 0\n",
      "number of faces 0\n",
      "number of faces 0\n",
      "number of faces 0\n",
      "number of faces 0\n",
      "number of faces 0\n",
      "number of faces 0\n",
      "number of faces 0\n",
      "number of faces 0\n",
      "number of faces 0\n",
      "number of faces 0\n",
      "number of faces 0\n",
      "number of faces 0\n",
      "number of faces 0\n",
      "number of faces 0\n",
      "number of faces 0\n",
      "number of faces 0\n",
      "number of faces 0\n",
      "number of faces 0\n",
      "number of faces 0\n",
      "number of faces 0\n",
      "number of faces 0\n",
      "number of faces 0\n",
      "number of faces 0\n",
      "number of faces 0\n",
      "number of faces 0\n",
      "number of faces 0\n",
      "number of faces 0\n",
      "number of faces 0\n",
      "number of faces 0\n",
      "number of faces 0\n",
      "number of faces 0\n",
      "number of faces 0\n",
      "number of faces 0\n",
      "number of faces 0\n",
      "number of faces 0\n",
      "number of faces 0\n",
      "number of faces 0\n",
      "number of faces 0\n",
      "number of faces 0\n",
      "number of faces 0\n",
      "number of faces 0\n",
      "number of faces 0\n",
      "number of faces 0\n",
      "number of faces 0\n",
      "number of faces 0\n",
      "number of faces 0\n",
      "number of faces 0\n",
      "number of faces 0\n",
      "number of faces 0\n",
      "number of faces 0\n",
      "number of faces 0\n",
      "number of faces 0\n",
      "number of faces 0\n",
      "number of faces 0\n",
      "number of faces 0\n",
      "number of faces 0\n",
      "number of faces 0\n",
      "number of faces 0\n",
      "number of faces 0\n",
      "number of faces 0\n",
      "number of faces 0\n",
      "number of faces 0\n",
      "number of faces 0\n",
      "number of faces 0\n",
      "number of faces 0\n",
      "number of faces 0\n",
      "number of faces 0\n",
      "number of faces 0\n",
      "number of faces 0\n",
      "number of faces 0\n",
      "number of faces 0\n",
      "number of faces 0\n",
      "number of faces 0\n",
      "number of faces 0\n",
      "number of faces 0\n",
      "number of faces 0\n",
      "number of faces 0\n",
      "number of faces 0\n",
      "number of faces 0\n",
      "number of faces 0\n",
      "number of faces 0\n",
      "number of faces 0\n",
      "number of faces 0\n",
      "number of faces 0\n",
      "number of faces 0\n",
      "number of faces 0\n",
      "number of faces 0\n",
      "number of faces 0\n",
      "number of faces 0\n"
     ]
    },
    {
     "ename": "KeyboardInterrupt",
     "evalue": "",
     "output_type": "error",
     "traceback": [
      "\u001b[1;31m---------------------------------------------------------------------------\u001b[0m",
      "\u001b[1;31mKeyboardInterrupt\u001b[0m                         Traceback (most recent call last)",
      "\u001b[1;32m<ipython-input-2-f0a635b945a5>\u001b[0m in \u001b[0;36m<module>\u001b[1;34m\u001b[0m\n\u001b[0;32m      7\u001b[0m \u001b[0mscale_factor\u001b[0m\u001b[1;33m=\u001b[0m\u001b[1;36m1.3\u001b[0m\u001b[1;33m\u001b[0m\u001b[1;33m\u001b[0m\u001b[0m\n\u001b[0;32m      8\u001b[0m \u001b[1;32mwhile\u001b[0m \u001b[1;36m1\u001b[0m\u001b[1;33m:\u001b[0m\u001b[1;33m\u001b[0m\u001b[1;33m\u001b[0m\u001b[0m\n\u001b[1;32m----> 9\u001b[1;33m     \u001b[0mfaces\u001b[0m\u001b[1;33m=\u001b[0m\u001b[0mface_cascade\u001b[0m\u001b[1;33m.\u001b[0m\u001b[0mdetectMultiScale\u001b[0m\u001b[1;33m(\u001b[0m\u001b[0mpic\u001b[0m\u001b[1;33m,\u001b[0m\u001b[0mscale_factor\u001b[0m\u001b[1;33m,\u001b[0m\u001b[1;36m5\u001b[0m\u001b[1;33m)\u001b[0m\u001b[1;33m\u001b[0m\u001b[1;33m\u001b[0m\u001b[0m\n\u001b[0m\u001b[0;32m     10\u001b[0m     \u001b[1;32mfor\u001b[0m \u001b[1;33m(\u001b[0m\u001b[0mx\u001b[0m\u001b[1;33m,\u001b[0m\u001b[0my\u001b[0m\u001b[1;33m,\u001b[0m\u001b[0mw\u001b[0m\u001b[1;33m,\u001b[0m\u001b[0mh\u001b[0m\u001b[1;33m)\u001b[0m\u001b[1;32min\u001b[0m \u001b[0mfaces\u001b[0m\u001b[1;33m:\u001b[0m\u001b[1;33m\u001b[0m\u001b[1;33m\u001b[0m\u001b[0m\n\u001b[0;32m     11\u001b[0m         \u001b[0mcv2\u001b[0m\u001b[1;33m.\u001b[0m\u001b[0mrectangle\u001b[0m\u001b[1;33m(\u001b[0m\u001b[0mpic\u001b[0m\u001b[1;33m,\u001b[0m\u001b[1;33m(\u001b[0m\u001b[0mx\u001b[0m\u001b[1;33m,\u001b[0m\u001b[0my\u001b[0m\u001b[1;33m)\u001b[0m\u001b[1;33m,\u001b[0m\u001b[1;33m(\u001b[0m\u001b[0mx\u001b[0m\u001b[1;33m+\u001b[0m\u001b[0mw\u001b[0m\u001b[1;33m,\u001b[0m\u001b[0my\u001b[0m\u001b[1;33m+\u001b[0m\u001b[0mh\u001b[0m\u001b[1;33m)\u001b[0m\u001b[1;33m,\u001b[0m\u001b[1;33m(\u001b[0m\u001b[1;36m255\u001b[0m\u001b[1;33m,\u001b[0m\u001b[1;36m0\u001b[0m\u001b[1;33m,\u001b[0m\u001b[1;36m0\u001b[0m\u001b[1;33m)\u001b[0m\u001b[1;33m,\u001b[0m\u001b[1;36m2\u001b[0m\u001b[1;33m)\u001b[0m\u001b[1;33m\u001b[0m\u001b[1;33m\u001b[0m\u001b[0m\n",
      "\u001b[1;31mKeyboardInterrupt\u001b[0m: "
     ]
    }
   ],
   "source": [
    "import numpy as np\n",
    "import cv2\n",
    "\n",
    "new_path='https://github.com/opencv/opencv/tree/master/data/haarcascades'\n",
    "face_cascade=cv2.CascadeClassifier(cv2.data.haarcascades + \"haarcascade_frontalface_default.xml\")\n",
    "pic = cv2.imread('Koala.jpg')\n",
    "scale_factor=1.3\n",
    "while 1:\n",
    "    faces=face_cascade.detectMultiScale(pic,scale_factor,5)\n",
    "    for (x,y,w,h)in faces:\n",
    "        cv2.rectangle(pic,(x,y),(x+w,y+h),(255,0,0),2)\n",
    "        font=cv2.FONT_HERSHEY_SIMPLEX\n",
    "        cv2.putText(pic,'Pooja',(x,y),font,2,(255,255,255),2,cv2.LINE_AA)\n",
    "    print('number of faces {}'.format(len(faces)))\n",
    "    cv2.imshow('face',pic)\n",
    "    k=cv2.waitKey(0) & 0xFF\n",
    "    if k==2:\n",
    "        break \n",
    "#cap.release()        \n",
    "cv2.destroyAllWindows()"
   ]
  },
  {
   "cell_type": "markdown",
   "metadata": {},
   "source": [
    "## Real image face detection"
   ]
  },
  {
   "cell_type": "code",
   "execution_count": null,
   "metadata": {},
   "outputs": [
    {
     "name": "stdout",
     "output_type": "stream",
     "text": [
      "number of faces 0\n",
      "number of faces 0\n",
      "number of faces 0\n",
      "number of faces 0\n",
      "number of faces 0\n",
      "number of faces 0\n",
      "number of faces 0\n",
      "number of faces 0\n",
      "number of faces 0\n",
      "number of faces 0\n",
      "number of faces 0\n",
      "number of faces 0\n",
      "number of faces 0\n",
      "number of faces 0\n",
      "number of faces 0\n"
     ]
    }
   ],
   "source": [
    "import numpy as np\n",
    "import cv2\n",
    "\n",
    "face_cascade=cv2.CascadeClassifier(cv2.data.haarcascades + \"haarcascade_frontalface_default.xml\")\n",
    "cap = cv2.VideoCapture(0)\n",
    "scale_factor=1.3\n",
    "while 1:\n",
    "    ret,pic=cap.read()\n",
    "    faces=face_cascade.detectMultiScale(pic,scale_factor,5)\n",
    "    for (x,y,w,h)in faces:\n",
    "        cv2.rectangle(pic,(x,y),(x+w,y+h),(255,0,0),2)\n",
    "        font=cv2.FONT_HERSHEY_SIMPLEX\n",
    "        cv2.putText(pic,'Pooja',(x,y),font,2,(255,255,255),2,cv2.LINE_AA)\n",
    "    print('number of faces {}'.format(len(faces)))\n",
    "    cv2.imshow('face',pic)\n",
    "    k=cv2.waitKey(8) & 0xFF\n",
    "    if k==2:\n",
    "        break \n",
    "#cap.release()        \n",
    "cv2.destroyAllWindows()"
   ]
  },
  {
   "cell_type": "code",
   "execution_count": null,
   "metadata": {},
   "outputs": [],
   "source": []
  },
  {
   "cell_type": "code",
   "execution_count": null,
   "metadata": {},
   "outputs": [],
   "source": []
  }
 ],
 "metadata": {
  "kernelspec": {
   "display_name": "Python 3",
   "language": "python",
   "name": "python3"
  },
  "language_info": {
   "codemirror_mode": {
    "name": "ipython",
    "version": 3
   },
   "file_extension": ".py",
   "mimetype": "text/x-python",
   "name": "python",
   "nbconvert_exporter": "python",
   "pygments_lexer": "ipython3",
   "version": "3.7.7"
  }
 },
 "nbformat": 4,
 "nbformat_minor": 4
}
